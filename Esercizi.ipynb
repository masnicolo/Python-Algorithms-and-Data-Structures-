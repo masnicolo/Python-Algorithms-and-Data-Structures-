{
 "cells": [
  {
   "cell_type": "code",
   "execution_count": 1,
   "id": "f2274a29",
   "metadata": {},
   "outputs": [],
   "source": [
    "string = \"Hello\""
   ]
  },
  {
   "cell_type": "code",
   "execution_count": 2,
   "id": "16787f31",
   "metadata": {},
   "outputs": [],
   "source": [
    "num= 1"
   ]
  },
  {
   "cell_type": "code",
   "execution_count": 3,
   "id": "a3e5bcee",
   "metadata": {},
   "outputs": [],
   "source": [
    "var = False "
   ]
  },
  {
   "cell_type": "code",
   "execution_count": 4,
   "id": "691534a8",
   "metadata": {},
   "outputs": [],
   "source": [
    "dec_num = 7.9"
   ]
  },
  {
   "cell_type": "code",
   "execution_count": 5,
   "id": "5d660b40",
   "metadata": {},
   "outputs": [
    {
     "name": "stdout",
     "output_type": "stream",
     "text": [
      "piccolo\n"
     ]
    }
   ],
   "source": [
    "# se il numero > 10 stampa \"grande\", altrimenti \"piccolo\"\n",
    "\n",
    "num = 6\n",
    "\n",
    "if num > 10: \n",
    "    print(\"grande\")\n",
    "else: \n",
    "    print(\"piccolo\")"
   ]
  },
  {
   "cell_type": "code",
   "execution_count": 6,
   "id": "d6836802",
   "metadata": {},
   "outputs": [
    {
     "name": "stdout",
     "output_type": "stream",
     "text": [
      "3\n"
     ]
    }
   ],
   "source": [
    "var = True \n",
    "\n",
    "# se il numero è > 10 e var = True, stampa 1\n",
    "# se è il numero > 10 e var  = False, stampa 2\n",
    "# se il numero è < 10 e var = True, stampa 3\n",
    "# se è il numero < 10 e var  = False, stampa 4\n",
    "\n",
    "if num > 10 and var: \n",
    "    print(1)\n",
    "elif num > 10 and not var: \n",
    "    print(2)\n",
    "elif num < 10 and var:\n",
    "    print(3)\n",
    "else: \n",
    "    print(4)"
   ]
  },
  {
   "cell_type": "code",
   "execution_count": 18,
   "id": "51cbfee0",
   "metadata": {},
   "outputs": [
    {
     "name": "stdout",
     "output_type": "stream",
     "text": [
      "25\n"
     ]
    }
   ],
   "source": [
    "# Write a Python algorithm to find the maximum element in an array.\n",
    "maxx= arr[0]\n",
    "for n in arr: \n",
    "    if n > maxx: \n",
    "        maxx = n\n",
    "print(maxx)\n",
    "        "
   ]
  },
  {
   "cell_type": "code",
   "execution_count": 20,
   "id": "ad68dcd6",
   "metadata": {},
   "outputs": [],
   "source": [
    "lista = [1,2, 3, 4]"
   ]
  },
  {
   "cell_type": "code",
   "execution_count": 25,
   "id": "fb0a8df2",
   "metadata": {},
   "outputs": [
    {
     "data": {
      "text/plain": [
       "'[1, 2, 3, 4]'"
      ]
     },
     "execution_count": 25,
     "metadata": {},
     "output_type": "execute_result"
    }
   ],
   "source": [
    "str(lista)"
   ]
  },
  {
   "cell_type": "code",
   "execution_count": 26,
   "id": "f2903700",
   "metadata": {},
   "outputs": [
    {
     "ename": "TypeError",
     "evalue": "unsupported operand type(s) for +: 'int' and 'str'",
     "output_type": "error",
     "traceback": [
      "\u001b[1;31m---------------------------------------------------------------------------\u001b[0m",
      "\u001b[1;31mTypeError\u001b[0m                                 Traceback (most recent call last)",
      "Input \u001b[1;32mIn [26]\u001b[0m, in \u001b[0;36m<cell line: 1>\u001b[1;34m()\u001b[0m\n\u001b[1;32m----> 1\u001b[0m \u001b[43mlista\u001b[49m\u001b[43m[\u001b[49m\u001b[38;5;241;43m0\u001b[39;49m\u001b[43m]\u001b[49m\u001b[43m \u001b[49m\u001b[38;5;241;43m+\u001b[39;49m\u001b[43m \u001b[49m\u001b[38;5;124;43m\"\u001b[39;49m\u001b[38;5;124;43m1\u001b[39;49m\u001b[38;5;124;43m\"\u001b[39;49m\n",
      "\u001b[1;31mTypeError\u001b[0m: unsupported operand type(s) for +: 'int' and 'str'"
     ]
    }
   ],
   "source": [
    "lista[0] + \"1\""
   ]
  },
  {
   "cell_type": "code",
   "execution_count": 27,
   "id": "4b58ed30",
   "metadata": {},
   "outputs": [
    {
     "data": {
      "text/plain": [
       "int"
      ]
     },
     "execution_count": 27,
     "metadata": {},
     "output_type": "execute_result"
    }
   ],
   "source": [
    "type(lista[0])"
   ]
  },
  {
   "cell_type": "code",
   "execution_count": 28,
   "id": "b2a7929c",
   "metadata": {},
   "outputs": [],
   "source": [
    "lista = str(lista) "
   ]
  },
  {
   "cell_type": "code",
   "execution_count": 30,
   "id": "7fe458a2",
   "metadata": {},
   "outputs": [],
   "source": [
    "lista =lista[0]+ \"1\""
   ]
  },
  {
   "cell_type": "code",
   "execution_count": 31,
   "id": "f1d6924d",
   "metadata": {},
   "outputs": [
    {
     "name": "stdout",
     "output_type": "stream",
     "text": [
      "[1\n"
     ]
    }
   ],
   "source": [
    "print(lista)"
   ]
  },
  {
   "cell_type": "code",
   "execution_count": 32,
   "id": "d8d13ad6",
   "metadata": {},
   "outputs": [],
   "source": [
    "lista = [1,2, 3,0,  4]"
   ]
  },
  {
   "cell_type": "code",
   "execution_count": 33,
   "id": "841e9ad3",
   "metadata": {},
   "outputs": [
    {
     "ename": "SyntaxError",
     "evalue": "invalid syntax (297856083.py, line 3)",
     "output_type": "error",
     "traceback": [
      "\u001b[1;36m  Input \u001b[1;32mIn [33]\u001b[1;36m\u001b[0m\n\u001b[1;33m    insert.lista(, 0)\u001b[0m\n\u001b[1;37m                 ^\u001b[0m\n\u001b[1;31mSyntaxError\u001b[0m\u001b[1;31m:\u001b[0m invalid syntax\n"
     ]
    }
   ],
   "source": [
    "for n in lista: \n",
    "    if n == 0: \n",
    "        insert.lista(, 0)"
   ]
  },
  {
   "cell_type": "code",
   "execution_count": 39,
   "id": "a73850a9",
   "metadata": {},
   "outputs": [
    {
     "name": "stdout",
     "output_type": "stream",
     "text": [
      "[0, 5, 0, 3, 4, 4]\n"
     ]
    }
   ],
   "source": [
    "arr = [0, 5, 0, 3, 4, 4]\n",
    "empty=[]\n",
    "\n",
    "for n in arr: \n",
    "    if n != 0: \n",
    "        empty.append(n)\n",
    "    else: \n",
    "        empty.append(n) and insert(0)\n",
    "print(empty)"
   ]
  },
  {
   "cell_type": "code",
   "execution_count": 40,
   "id": "b1ed7f23",
   "metadata": {},
   "outputs": [
    {
     "name": "stdout",
     "output_type": "stream",
     "text": [
      "[0, 5, 0, 3, 4, 4]\n"
     ]
    }
   ],
   "source": [
    "arr = [0, 5, 0, 3, 4, 4]\n",
    "empty=[]\n",
    "\n",
    "\n",
    "for n in arr: \n",
    "    if n != 0: \n",
    "        empty.append(n)\n",
    "    else: \n",
    "        empty.append(n)\n",
    "print(empty)"
   ]
  },
  {
   "cell_type": "code",
   "execution_count": 56,
   "id": "6d43e106",
   "metadata": {},
   "outputs": [
    {
     "name": "stdout",
     "output_type": "stream",
     "text": [
      "[0, 5, 0, 3, 4, 4]\n"
     ]
    }
   ],
   "source": [
    "arr = [0, 5, 0, 3, 4, 4]\n",
    "empty=[]\n",
    "\n",
    "\n",
    "for n in arr: \n",
    "    if n == 0:\n",
    "        empty.append(n)\n",
    "    else: \n",
    "        empty.append(n)\n",
    "print(empty)"
   ]
  },
  {
   "cell_type": "code",
   "execution_count": 63,
   "id": "6c97ec9d",
   "metadata": {},
   "outputs": [
    {
     "name": "stdout",
     "output_type": "stream",
     "text": [
      "[0, 5, 0, 3, 4, 4, 0, 5, 0, 3, 4, 4]\n"
     ]
    }
   ],
   "source": [
    "for n in arr:\n",
    "    if n == 0 or n!=0: \n",
    "        empty.append(n)\n",
    "    elif n == 0: \n",
    "        empty.append(0)\n",
    "print(empty)"
   ]
  },
  {
   "cell_type": "code",
   "execution_count": 68,
   "id": "1367f9bf",
   "metadata": {},
   "outputs": [
    {
     "ename": "KeyboardInterrupt",
     "evalue": "",
     "output_type": "error",
     "traceback": [
      "\u001b[1;31m---------------------------------------------------------------------------\u001b[0m",
      "\u001b[1;31mKeyboardInterrupt\u001b[0m                         Traceback (most recent call last)",
      "Input \u001b[1;32mIn [68]\u001b[0m, in \u001b[0;36m<cell line: 1>\u001b[1;34m()\u001b[0m\n\u001b[0;32m      1\u001b[0m \u001b[38;5;28;01mfor\u001b[39;00m n \u001b[38;5;129;01min\u001b[39;00m arr:\n\u001b[1;32m----> 2\u001b[0m     \u001b[38;5;28;01mif\u001b[39;00m \u001b[43mn\u001b[49m \u001b[38;5;241m==\u001b[39m \u001b[38;5;241m0\u001b[39m: \n\u001b[0;32m      3\u001b[0m         arr\u001b[38;5;241m.\u001b[39mappend(\u001b[38;5;241m0\u001b[39m)\n\u001b[0;32m      4\u001b[0m \u001b[38;5;28mprint\u001b[39m(arr)\n",
      "\u001b[1;31mKeyboardInterrupt\u001b[0m: "
     ]
    }
   ],
   "source": [
    "for n in arr: \n",
    "    if n ==0: \n",
    "        empty.insert"
   ]
  },
  {
   "cell_type": "code",
   "execution_count": null,
   "id": "60707b1e",
   "metadata": {},
   "outputs": [
    {
     "name": "stdout",
     "output_type": "stream",
     "text": [
      "Indices and values in the list:\n",
      "(0, 'Zero')\n",
      "(1, 'One')\n",
      "(2, 'Two')\n",
      "(3, 'Three')\n",
      "(4, 'Four')\n"
     ]
    }
   ],
   "source": [
    "my_list = ['Zero', 'One', 'Two', 'Three', 'Four']\n",
    "\n",
    "print ('Indices and values in the list:')\n",
    "for i in range(len(my_list)):\n",
    "    val = my_list[i]\n",
    "    print((i, val))\n",
    "\n",
    "    \n",
    "for i in range(len(arr)): \n",
    "    print(arr)"
   ]
  },
  {
   "cell_type": "code",
   "execution_count": null,
   "id": "785b5c52",
   "metadata": {},
   "outputs": [],
   "source": [
    "for i in range(len(arr)): \n",
    "    print(arr)"
   ]
  },
  {
   "cell_type": "code",
   "execution_count": null,
   "id": "a89cb3c2",
   "metadata": {},
   "outputs": [],
   "source": []
  }
 ],
 "metadata": {
  "kernelspec": {
   "display_name": "Python 3 (ipykernel)",
   "language": "python",
   "name": "python3"
  },
  "language_info": {
   "codemirror_mode": {
    "name": "ipython",
    "version": 3
   },
   "file_extension": ".py",
   "mimetype": "text/x-python",
   "name": "python",
   "nbconvert_exporter": "python",
   "pygments_lexer": "ipython3",
   "version": "3.9.12"
  },
  "varInspector": {
   "cols": {
    "lenName": 16,
    "lenType": 16,
    "lenVar": 40
   },
   "kernels_config": {
    "python": {
     "delete_cmd_postfix": "",
     "delete_cmd_prefix": "del ",
     "library": "var_list.py",
     "varRefreshCmd": "print(var_dic_list())"
    },
    "r": {
     "delete_cmd_postfix": ") ",
     "delete_cmd_prefix": "rm(",
     "library": "var_list.r",
     "varRefreshCmd": "cat(var_dic_list()) "
    }
   },
   "types_to_exclude": [
    "module",
    "function",
    "builtin_function_or_method",
    "instance",
    "_Feature"
   ],
   "window_display": false
  }
 },
 "nbformat": 4,
 "nbformat_minor": 5
}
