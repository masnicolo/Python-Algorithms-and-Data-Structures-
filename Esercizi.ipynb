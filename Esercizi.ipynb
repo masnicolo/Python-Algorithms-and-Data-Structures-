{
 "cells": [
  {
   "cell_type": "code",
   "execution_count": 1,
   "id": "f2274a29",
   "metadata": {},
   "outputs": [],
   "source": [
    "string = \"Hello\""
   ]
  },
  {
   "cell_type": "code",
   "execution_count": 2,
   "id": "16787f31",
   "metadata": {},
   "outputs": [],
   "source": [
    "num= 1"
   ]
  },
  {
   "cell_type": "code",
   "execution_count": 3,
   "id": "a3e5bcee",
   "metadata": {},
   "outputs": [],
   "source": [
    "var = False "
   ]
  },
  {
   "cell_type": "code",
   "execution_count": 4,
   "id": "691534a8",
   "metadata": {},
   "outputs": [],
   "source": [
    "dec_num = 7.9"
   ]
  },
  {
   "cell_type": "code",
   "execution_count": 5,
   "id": "5d660b40",
   "metadata": {},
   "outputs": [
    {
     "name": "stdout",
     "output_type": "stream",
     "text": [
      "piccolo\n"
     ]
    }
   ],
   "source": [
    "# se il numero > 10 stampa \"grande\", altrimenti \"piccolo\"\n",
    "\n",
    "num = 6\n",
    "\n",
    "if num > 10: \n",
    "    print(\"grande\")\n",
    "else: \n",
    "    print(\"piccolo\")"
   ]
  },
  {
   "cell_type": "code",
   "execution_count": 6,
   "id": "d6836802",
   "metadata": {},
   "outputs": [
    {
     "name": "stdout",
     "output_type": "stream",
     "text": [
      "3\n"
     ]
    }
   ],
   "source": [
    "var = True \n",
    "\n",
    "# se il numero è > 10 e var = True, stampa 1\n",
    "# se è il numero > 10 e var  = False, stampa 2\n",
    "# se il numero è < 10 e var = True, stampa 3\n",
    "# se è il numero < 10 e var  = False, stampa 4\n",
    "\n",
    "if num > 10 and var: \n",
    "    print(1)\n",
    "elif num > 10 and not var: \n",
    "    print(2)\n",
    "elif num < 10 and var:\n",
    "    print(3)\n",
    "else: \n",
    "    print(4)"
   ]
  },
  {
   "cell_type": "code",
   "execution_count": null,
   "id": "51cbfee0",
   "metadata": {},
   "outputs": [],
   "source": []
  }
 ],
 "metadata": {
  "kernelspec": {
   "display_name": "Python 3 (ipykernel)",
   "language": "python",
   "name": "python3"
  },
  "language_info": {
   "codemirror_mode": {
    "name": "ipython",
    "version": 3
   },
   "file_extension": ".py",
   "mimetype": "text/x-python",
   "name": "python",
   "nbconvert_exporter": "python",
   "pygments_lexer": "ipython3",
   "version": "3.9.12"
  },
  "varInspector": {
   "cols": {
    "lenName": 16,
    "lenType": 16,
    "lenVar": 40
   },
   "kernels_config": {
    "python": {
     "delete_cmd_postfix": "",
     "delete_cmd_prefix": "del ",
     "library": "var_list.py",
     "varRefreshCmd": "print(var_dic_list())"
    },
    "r": {
     "delete_cmd_postfix": ") ",
     "delete_cmd_prefix": "rm(",
     "library": "var_list.r",
     "varRefreshCmd": "cat(var_dic_list()) "
    }
   },
   "types_to_exclude": [
    "module",
    "function",
    "builtin_function_or_method",
    "instance",
    "_Feature"
   ],
   "window_display": false
  }
 },
 "nbformat": 4,
 "nbformat_minor": 5
}
