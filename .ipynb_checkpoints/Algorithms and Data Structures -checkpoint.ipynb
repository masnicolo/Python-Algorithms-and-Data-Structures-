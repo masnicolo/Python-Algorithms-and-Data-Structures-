{
 "cells": [
  {
   "cell_type": "code",
   "execution_count": 34,
   "id": "c6c217da",
   "metadata": {},
   "outputs": [],
   "source": [
    "list_num = [1, 5, 9]"
   ]
  },
  {
   "cell_type": "code",
   "execution_count": 53,
   "id": "245a889a",
   "metadata": {},
   "outputs": [
    {
     "name": "stdout",
     "output_type": "stream",
     "text": [
      "9\n"
     ]
    }
   ],
   "source": [
    "# Given list_num, find the max value without using the max() function\n",
    "\n",
    "max = list_el[0]\n",
    "\n",
    "for i in list_el: \n",
    "    if i > max: \n",
    "        max = i\n",
    "        \n",
    "print(max)"
   ]
  },
  {
   "cell_type": "code",
   "execution_count": 57,
   "id": "9253c684",
   "metadata": {},
   "outputs": [],
   "source": [
    "list_b = [1, 5, 9, 9]"
   ]
  },
  {
   "cell_type": "code",
   "execution_count": 72,
   "id": "01ed68c2",
   "metadata": {},
   "outputs": [
    {
     "name": "stdout",
     "output_type": "stream",
     "text": [
      "9 2\n"
     ]
    }
   ],
   "source": [
    "# Given list_b, find the max number and its index \n",
    "\n",
    "\n",
    "max = list_b[0]\n",
    "\n",
    "max_index = 0\n",
    "\n",
    "for i in range(0, len(list_b), 1):\n",
    "    if list_b [i] > max: \n",
    "        max = list_b[i]\n",
    "        max_index= i\n",
    "print(max, max_index)"
   ]
  },
  {
   "cell_type": "code",
   "execution_count": 73,
   "id": "13c31f23",
   "metadata": {},
   "outputs": [
    {
     "name": "stdout",
     "output_type": "stream",
     "text": [
      "1 0\n"
     ]
    }
   ],
   "source": [
    "# Find min value and its index \n",
    "\n",
    "min_index = 0\n",
    "\n",
    "for i in range(0, len(list_b), 1):\n",
    "    if list_b[i] < min: \n",
    "        min = lista_b[i]\n",
    "        min_index = i\n",
    "        \n",
    "print(min, min_index)"
   ]
  },
  {
   "cell_type": "code",
   "execution_count": 74,
   "id": "f009a454",
   "metadata": {},
   "outputs": [
    {
     "name": "stdout",
     "output_type": "stream",
     "text": [
      "24\n"
     ]
    }
   ],
   "source": [
    "# Find the sum of all elements in list_b\n",
    "\n",
    "list_b = [1, 5, 9, 9]\n",
    "\n",
    "sum = 0\n",
    "\n",
    "for i in list_b: \n",
    "    sum = sum +i  # Alternatively, sum=+i\n",
    "    \n",
    "print(sum)"
   ]
  },
  {
   "cell_type": "code",
   "execution_count": 77,
   "id": "dbab31df",
   "metadata": {},
   "outputs": [
    {
     "name": "stdout",
     "output_type": "stream",
     "text": [
      "Insert Number8\n",
      "Element not in list\n"
     ]
    }
   ],
   "source": [
    "# Write a programme which tells us if the number requested is in list_b or not\n",
    "\n",
    "list_b = [1, 5, 9, 9]\n",
    "\n",
    "num = int(input(\"Insert Number\"))\n",
    "flag= False # flag variable\n",
    "\n",
    "for i in list_b: \n",
    "    if num == i:\n",
    "        flag = True  \n",
    "        \n",
    "if flag == True: \n",
    "    print(\"Element is in list\")\n",
    "else: \n",
    "    print(\"Element not in list\") \n"
   ]
  },
  {
   "cell_type": "code",
   "execution_count": null,
   "id": "2ca53504",
   "metadata": {},
   "outputs": [],
   "source": []
  },
  {
   "cell_type": "code",
   "execution_count": 78,
   "id": "5f0084fe",
   "metadata": {},
   "outputs": [],
   "source": [
    "# Removing an element from a list  \n",
    "del list_b[0]"
   ]
  },
  {
   "cell_type": "code",
   "execution_count": 79,
   "id": "9cfd6f2a",
   "metadata": {},
   "outputs": [
    {
     "name": "stdout",
     "output_type": "stream",
     "text": [
      "[1, 5]\n"
     ]
    }
   ],
   "source": [
    "# print the first two elements in your list\n",
    "\n",
    "print(lista_b[0:2])"
   ]
  },
  {
   "cell_type": "code",
   "execution_count": 82,
   "id": "7be785cd",
   "metadata": {},
   "outputs": [
    {
     "name": "stdout",
     "output_type": "stream",
     "text": [
      "[2, 85, 4]\n"
     ]
    }
   ],
   "source": [
    "# Create a list which contains only odd numbers from the previous list \n",
    "\n",
    "list_three = [1,2,3, 85, 23, 4]\n",
    "\n",
    "list_odds = []\n",
    "\n",
    "for i in range(0, len(list_three), 1):\n",
    "    if i %2 != 0:\n",
    "        list_odds.append(list_three[i])\n",
    "print(list_odds)"
   ]
  },
  {
   "cell_type": "code",
   "execution_count": 84,
   "id": "21a817b8",
   "metadata": {},
   "outputs": [
    {
     "name": "stdout",
     "output_type": "stream",
     "text": [
      "0\n"
     ]
    }
   ],
   "source": [
    "# Given a list, how many times does the first element repeats\n",
    "\n",
    "cont = -1 # I use -1 because the element will be present at index 0\n",
    "\n",
    "for i in list_three: \n",
    "    if i == list_three[0]: \n",
    "        cont +=1\n",
    "print(cont)"
   ]
  },
  {
   "cell_type": "code",
   "execution_count": null,
   "id": "b987afb7",
   "metadata": {},
   "outputs": [],
   "source": []
  }
 ],
 "metadata": {
  "kernelspec": {
   "display_name": "Python 3 (ipykernel)",
   "language": "python",
   "name": "python3"
  },
  "language_info": {
   "codemirror_mode": {
    "name": "ipython",
    "version": 3
   },
   "file_extension": ".py",
   "mimetype": "text/x-python",
   "name": "python",
   "nbconvert_exporter": "python",
   "pygments_lexer": "ipython3",
   "version": "3.9.12"
  },
  "varInspector": {
   "cols": {
    "lenName": 16,
    "lenType": 16,
    "lenVar": 40
   },
   "kernels_config": {
    "python": {
     "delete_cmd_postfix": "",
     "delete_cmd_prefix": "del ",
     "library": "var_list.py",
     "varRefreshCmd": "print(var_dic_list())"
    },
    "r": {
     "delete_cmd_postfix": ") ",
     "delete_cmd_prefix": "rm(",
     "library": "var_list.r",
     "varRefreshCmd": "cat(var_dic_list()) "
    }
   },
   "types_to_exclude": [
    "module",
    "function",
    "builtin_function_or_method",
    "instance",
    "_Feature"
   ],
   "window_display": false
  }
 },
 "nbformat": 4,
 "nbformat_minor": 5
}
